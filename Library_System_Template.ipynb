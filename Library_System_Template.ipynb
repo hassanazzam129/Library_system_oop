{
 "cells": [
  {
   "attachments": {},
   "cell_type": "markdown",
   "metadata": {},
   "source": [
    "![image.png](library.jpg)"
   ]
  },
  {
   "cell_type": "markdown",
   "metadata": {},
   "source": [
    "> ### Harry works in the library, Harry is tired of writing data in paper records so Harry decides to go digital.\n",
    "> ### Harry wants a program to do all the operations in the library.\n",
    "> ### Let's help Harry!"
   ]
  },
  {
   "cell_type": "markdown",
   "metadata": {},
   "source": [
    "# Task 1 : \n",
    "- #### task 1.1 Make Class(Library) with attributes:\n",
    "    - booksList  \n",
    "    - name of lirary  \n",
    "    - lended books (name of user, book) \n",
    "- #### task 1.2 Make method to display available Books.\n",
    "- #### task 1.3 Make method for books lending.\n",
    "    - Don't forget to check if book isn't already lended \n",
    "- #### task 1.4 Make method to add Book to library.\n",
    "- #### task 1.5 Make method to return borrowed book."
   ]
  },
  {
   "cell_type": "code",
   "execution_count": 2,
   "metadata": {},
   "outputs": [],
   "source": [
    "class Library :\n",
    "    def __init__ (self,name,books_List,lendedbooks):\n",
    "        self.name = name\n",
    "        self.books_List = books_List\n",
    "        self.lendedbooks_dic = lendedbooks_dic\n",
    "        \n",
    "    def display_books (self):\n",
    "        print(f'{self.name} has the following books :')\n",
    "        for book in self.books_List:\n",
    "            print(book)\n",
    "            \n",
    "    def available_books (self):\n",
    "        print(f'{self.name} has the following books available :')\n",
    "        for book in self.books_List:\n",
    "            if book not in self.self.lendedbooks_dic.values():\n",
    "                print(book)\n",
    "    \n",
    "    def lend_books (self,book_name,user):\n",
    "        if book_name in self.books_List:\n",
    "            if book_name not in self.lendedbooks_dic:\n",
    "                self.lendedbooks_dic[book_name] = user\n",
    "                print (f'{user} has now {book_name}')\n",
    "            else :\n",
    "                print (f'{book_name} is already lended to {self.lendedbooks_dic[book_name]}')\n",
    "        else:\n",
    "            print(f'{book_name} is not in the library')\n",
    "            \n",
    "    def add_book (self,book_name):\n",
    "        if book_name not in self.books_List:\n",
    "            self.books_List.append(book_name)\n",
    "            print (f'{book_name} has been added to the library')\n",
    "            \n",
    "    def return_books (self,book_name):\n",
    "        if book_name in self.lendedbooks_dic:\n",
    "            del self.lendedbooks_dic[book_name]\n",
    "            print (f'[book_name] the book returned')\n",
    "    \n",
    "    "
   ]
  },
  {
   "cell_type": "code",
   "execution_count": null,
   "metadata": {},
   "outputs": [],
   "source": []
  },
  {
   "cell_type": "markdown",
   "metadata": {},
   "source": [
    "# Task 2 : \n",
    "- #### task 2.1 Make object(Harry) with attributes:\n",
    "    - booksList  = ['Python', 'Rich Daddy Poor Daddy', 'Harry Potter', 'C++ Basics', 'Algorithms by CLRS']\n",
    "    - name of lirary  = \"CodeWithHarry\"\n",
    "- #### task 2.2 Make program run with this choices. __(Don't forget the welcome message)__\n",
    "    - 1. Display Books\n",
    "    - 2. Lend a Book\n",
    "    - 3. Add a Book\n",
    "    - 4. Return a Book\n",
    "- #### task 2.3 Make prgram ends or continue."
   ]
  },
  {
   "cell_type": "code",
   "execution_count": null,
   "metadata": {},
   "outputs": [],
   "source": []
  }
 ],
 "metadata": {
  "kernelspec": {
   "display_name": "Python 3",
   "language": "python",
   "name": "python3"
  },
  "language_info": {
   "codemirror_mode": {
    "name": "ipython",
    "version": 3
   },
   "file_extension": ".py",
   "mimetype": "text/x-python",
   "name": "python",
   "nbconvert_exporter": "python",
   "pygments_lexer": "ipython3",
   "version": "3.7.6"
  },
  "vscode": {
   "interpreter": {
    "hash": "78c960279fecff9e244480132042affa22d495e3cfc64966045877e7ad2bb26d"
   }
  }
 },
 "nbformat": 4,
 "nbformat_minor": 4
}
